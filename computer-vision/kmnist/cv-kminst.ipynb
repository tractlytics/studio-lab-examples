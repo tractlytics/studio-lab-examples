{
 "cells": [
  {
   "cell_type": "markdown",
   "metadata": {},
   "source": [
    "[![Open In Studio Lab](https://studiolab.sagemaker.aws/studiolab.svg)](https://studiolab.sagemaker.aws/import/github/aws/studio-lab-examples/blob/main/computer-vision/kmnist/cv-kminst.ipynb)\n",
    "\n",
    "# Train an image classification model with PyTorch \n",
    "\n",
    "## Background\n",
    "\n",
    "Image classification (or Image recognition) is a subdomain of computer vision in which an algorithm looks at an image and assigns it a tag from a collection of predefined tags or categories that it has been trained on.\n",
    "\n",
    "Vision is responsible for 80-85 percent of our perception of the world, and we, as human beings, trivially perform classification daily on whatever data we come across.\n",
    "\n",
    "Therefore, emulating a classification task with the help of neural networks is one of the first uses of computer vision that researchers thought about.\n",
    "\n",
    "\n",
    "## Pytorch\n",
    "\n",
    "[PyTorch](https://pytorch.org/) is an open-source machine learning library based on the Torch library, used for applications such as computer vision and natural language processing, primarily developed by Facebook's AI Research lab (FAIR). It is free and open-source software released under the Modified BSD license.\n",
    "\n",
    "## KMINST dataset\n",
    "\n",
    "In this notebook we will use the KMINST dataset\n",
    "https://pytorch.org/vision/stable/datasets.html#torchvision-datasets\n",
    "    \n",
    "## Steps in this notebook\n",
    "\n",
    "The main steps are:\n",
    "- install packages\n",
    "- load dataset, what's train and test loader\n",
    "- print out 1 image from KMINST dataset, with which library, \n",
    "- initiate the NN model, what's neural network, furthor reading: mlu-cv course\n",
    "- train a model with config\n",
    "- test a model \n",
    "- print a figure with train and test loss"
   ]
  },
  {
   "cell_type": "code",
   "execution_count": null,
   "metadata": {},
   "outputs": [],
   "source": []
  },
  {
   "cell_type": "markdown",
   "metadata": {},
   "source": [
    "![KMIST dataset picture](https://raw.githubusercontent.com/rois-codh/kmnist/master/images/kmnist_examples.png)"
   ]
  },
  {
   "cell_type": "markdown",
   "metadata": {},
   "source": [
    "- Install python packages for later use\n",
    "\n",
    "    - **torch**: for install [PyTorch](https://pytorch.org/). PyTorch is a Python package that provides two high-level features: (1) Tensor computation (like NumPy) with strong GPU acceleration (2) Deep neural networks built on a tape-based autograd system\n",
    "\n",
    "    - torchvision: \n",
    "    - torchsummary: \n",
    "    - matplotlib: \n",
    "    \n",
    "Before running this notebook we need to install the required Python packages by opening a terminal window (click on File/New/Terminal) going to the location where the env_cv.yml file is located and launching the following two commands:\n",
    "- conda env create -f env_cv.yml\n",
    "- conda activate cv\n",
    "\n",
    "After that we also need to switch the notebook kernel (click on Kernel/Change Kernel...) to **.conda-cv:Python**    "
   ]
  },
  {
   "cell_type": "code",
   "execution_count": 1,
   "metadata": {},
   "outputs": [],
   "source": [
    "# Uncomment these lines if you do not want to use the env_cv.yml file\n",
    "#%pip install torch \n",
    "#%pip install torchvision\n",
    "#%pip install torchsummary\n",
    "#%pip install matplotlib\n",
    "#%pip install ipywidgets"
   ]
  },
  {
   "cell_type": "code",
   "execution_count": 2,
   "metadata": {},
   "outputs": [],
   "source": [
    "import torch\n",
    "import torchvision"
   ]
  },
  {
   "cell_type": "code",
   "execution_count": 3,
   "metadata": {},
   "outputs": [],
   "source": [
    "if torch.cuda.is_available():  \n",
    "    device = \"cuda:0\" \n",
    "else:  \n",
    "    device = \"cpu\" "
   ]
  },
  {
   "cell_type": "code",
   "execution_count": 4,
   "metadata": {},
   "outputs": [],
   "source": [
    "import os\n",
    "results_dir='results'\n",
    "if not os.path.isdir(results_dir):\n",
    "    !mkdir -p {results_dir}"
   ]
  },
  {
   "cell_type": "code",
   "execution_count": 5,
   "metadata": {},
   "outputs": [],
   "source": [
    "## Create dataloader, in PyTorch, we feed the trainer data with use of dataloader\n",
    "## We create dataloader with dataset from torchvision, \n",
    "## and we dont have to download it seperately, all automatically done\n",
    "\n",
    "# Define batch size, batch size is how much data you feed for training in one iteration\n",
    "batch_size_train = 64 # We use a small batch size here for training\n",
    "batch_size_test = 1024 #\n",
    "\n",
    "# define how image transformed\n",
    "image_transform = torchvision.transforms.Compose([\n",
    "                               torchvision.transforms.ToTensor(),\n",
    "                               torchvision.transforms.Normalize(\n",
    "                                 (0.1307,), (0.3081,))\n",
    "                             ])\n",
    "#image datasets\n",
    "train_dataset = torchvision.datasets.KMNIST('dataset/', \n",
    "                                           train=True, \n",
    "                                           download=True,\n",
    "                                           transform=image_transform)\n",
    "test_dataset = torchvision.datasets.KMNIST('dataset/', \n",
    "                                          train=False, \n",
    "                                          download=True,\n",
    "                                          transform=image_transform)\n",
    "#data loaders\n",
    "train_loader = torch.utils.data.DataLoader(train_dataset,\n",
    "                                           batch_size=batch_size_train, \n",
    "                                           shuffle=True)\n",
    "test_loader = torch.utils.data.DataLoader(test_dataset,\n",
    "                                          batch_size=batch_size_test, \n",
    "                                          shuffle=True)"
   ]
  },
  {
   "cell_type": "code",
   "execution_count": 6,
   "metadata": {},
   "outputs": [
    {
     "name": "stdout",
     "output_type": "stream",
     "text": [
      "Label: tensor(8)\n"
     ]
    },
    {
     "data": {
      "image/png": "[encoded data removed]",
      "text/plain": [
       "<Figure size 640x480 with 1 Axes>"
      ]
     },
     "metadata": {},
     "output_type": "display_data"
    }
   ],
   "source": [
    "# import library\n",
    "\n",
    "import matplotlib.pyplot as plt\n",
    "# We can check the dataloader\n",
    "_, (example_datas, labels) = next(enumerate(test_loader))\n",
    "sample = example_datas[0][0]\n",
    "# show the data\n",
    "plt.imshow(sample, cmap='gray', interpolation='none')\n",
    "print(\"Label: \"+ str(labels[0]))"
   ]
  },
  {
   "cell_type": "code",
   "execution_count": 7,
   "metadata": {},
   "outputs": [],
   "source": [
    "## Now we can start to build our CNN model\n",
    "## We first import the pytorch nn module and optimizer\n",
    "import torch.nn as nn\n",
    "import torch.nn.functional as F\n",
    "import torch.optim as optim\n",
    "## Then define the model class\n",
    "class CNN(nn.Module):\n",
    "    def __init__(self):\n",
    "        super(CNN, self).__init__()\n",
    "        #input channel 1, output channel 10\n",
    "        self.conv1 = nn.Conv2d(1, 10, kernel_size=5, stride=1)\n",
    "        #input channel 10, output channel 20\n",
    "        self.conv2 = nn.Conv2d(10, 20, kernel_size=5, stride=1)\n",
    "        #dropout layer\n",
    "        self.conv2_drop = nn.Dropout2d()\n",
    "        #fully connected layer\n",
    "        self.fc1 = nn.Linear(320, 50)\n",
    "        self.fc2 = nn.Linear(50, 10)\n",
    "    def forward(self, x):\n",
    "        x = self.conv1(x)\n",
    "        x = F.max_pool2d(x, 2)\n",
    "        x = F.relu(x)\n",
    "        x = self.conv2(x)\n",
    "        x = self.conv2_drop(x)\n",
    "        x = F.max_pool2d(x, 2)\n",
    "        x = F.relu(x)\n",
    "        x = x.view(-1, 320)\n",
    "        x = self.fc1(x)\n",
    "        x = F.relu(x)\n",
    "        x = F.dropout(x)\n",
    "        x = self.fc2(x)\n",
    "        return F.log_softmax(x, dim = 1)#di"
   ]
  },
  {
   "cell_type": "code",
   "execution_count": 8,
   "metadata": {},
   "outputs": [],
   "source": [
    "## create model and optimizer\n",
    "learning_rate = 0.01\n",
    "momentum = 0.5\n",
    "model = CNN().to(device) #using cpu here\n",
    "optimizer = optim.SGD(model.parameters(), lr=learning_rate,\n",
    "                      momentum=momentum)"
   ]
  },
  {
   "cell_type": "code",
   "execution_count": 9,
   "metadata": {},
   "outputs": [
    {
     "name": "stdout",
     "output_type": "stream",
     "text": [
      "----------------------------------------------------------------\n",
      "        Layer (type)               Output Shape         Param #\n",
      "================================================================\n",
      "            Conv2d-1           [-1, 10, 24, 24]             260\n",
      "            Conv2d-2             [-1, 20, 8, 8]           5,020\n",
      "         Dropout2d-3             [-1, 20, 8, 8]               0\n",
      "            Linear-4                   [-1, 50]          16,050\n",
      "            Linear-5                   [-1, 10]             510\n",
      "================================================================\n",
      "Total params: 21,840\n",
      "Trainable params: 21,840\n",
      "Non-trainable params: 0\n",
      "----------------------------------------------------------------\n",
      "Input size (MB): 0.00\n",
      "Forward/backward pass size (MB): 0.06\n",
      "Params size (MB): 0.08\n",
      "Estimated Total Size (MB): 0.15\n",
      "----------------------------------------------------------------\n"
     ]
    }
   ],
   "source": [
    "from torchsummary import summary\n",
    "summary(model, (1, 28, 28))"
   ]
  },
  {
   "cell_type": "code",
   "execution_count": 10,
   "metadata": {},
   "outputs": [],
   "source": [
    "n_epochs = 20#di\n",
    "log_interval = 100\n",
    "train_losses = []\n",
    "train_counter = []\n",
    "test_losses = []\n",
    "test_counter = [i*len(train_loader.dataset) for i in range(n_epochs + 1)]"
   ]
  },
  {
   "cell_type": "code",
   "execution_count": 11,
   "metadata": {},
   "outputs": [],
   "source": [
    "def train(epoch):\n",
    "    model.train()\n",
    "    for batch_idx, (data, target) in enumerate(train_loader):\n",
    "        optimizer.zero_grad()\n",
    "        if torch.cuda.is_available():  \n",
    "            output = model(data.cuda())\n",
    "            loss = F.nll_loss(output, target.cuda())\n",
    "        else:\n",
    "            output = model(data)\n",
    "            loss = F.nll_loss(output, target)\n",
    "        loss.backward()\n",
    "        optimizer.step()\n",
    "        if batch_idx % log_interval == 0:\n",
    "            print('Train Epoch: {} [{}/{} ({:.0f}%)]\\tLoss: {:.6f}'.format(\n",
    "        epoch, batch_idx * len(data), len(train_loader.dataset),\n",
    "        100. * batch_idx / len(train_loader), loss.item()))\n",
    "    train_losses.append(loss.item())\n",
    "    train_counter.append(\n",
    "        (batch_idx*64) + ((epoch-1)*len(train_loader.dataset)))\n",
    "    torch.save(model.state_dict(), './results/model.pth')\n",
    "    torch.save(optimizer.state_dict(), './results/optimizer.pth')"
   ]
  },
  {
   "cell_type": "code",
   "execution_count": 12,
   "metadata": {},
   "outputs": [],
   "source": [
    "def test():\n",
    "    model.eval()\n",
    "    test_loss = 0\n",
    "    correct = 0\n",
    "    with torch.no_grad():\n",
    "        for data, target in test_loader:\n",
    "            if torch.cuda.is_available(): \n",
    "                output = model(data.cuda())\n",
    "                test_loss += F.nll_loss(output, target.cuda(), size_average=False).item()\n",
    "                pred = output.data.max(1, keepdim=True)[1]\n",
    "                correct += pred.eq(target.cuda().data.view_as(pred)).sum()\n",
    "            else:\n",
    "                output = model(data)\n",
    "                test_loss += F.nll_loss(output, target, size_average=False).item()\n",
    "                pred = output.data.max(1, keepdim=True)[1]\n",
    "                correct += pred.eq(target.data.view_as(pred)).sum()                \n",
    "    test_loss /= len(test_loader.dataset)\n",
    "    print(test_loss)\n",
    "    test_losses.append(test_loss)\n",
    "    print('\\nTest set: Avg. loss: {:.4f}, Accuracy: {}/{} ({:.0f}%)\\n'.format(\n",
    "        test_loss, correct, len(test_loader.dataset),\n",
    "        100. * correct / len(test_loader.dataset)))"
   ]
  },
  {
   "cell_type": "code",
   "execution_count": 13,
   "metadata": {},
   "outputs": [
    {
     "data": {
      "text/plain": [
       "[]"
      ]
     },
     "execution_count": 13,
     "metadata": {},
     "output_type": "execute_result"
    }
   ],
   "source": [
    "test_losses"
   ]
  },
  {
   "cell_type": "code",
   "execution_count": 14,
   "metadata": {},
   "outputs": [
    {
     "name": "stdout",
     "output_type": "stream",
     "text": [
      "5.91278076171875e-05\n"
     ]
    }
   ],
   "source": [
    "import time\n",
    "t0=time.time()\n",
    "#test()\n",
    "print( time.time()-t0 )"
   ]
  },
  {
   "cell_type": "code",
   "execution_count": 15,
   "metadata": {},
   "outputs": [
    {
     "name": "stderr",
     "output_type": "stream",
     "text": [
      "/home/studio-lab-user/.conda/envs/cv/lib/python3.9/site-packages/torch/nn/_reduction.py:42: UserWarning: size_average and reduce args will be deprecated, please use reduction='sum' instead.\n",
      "  warnings.warn(warning.format(ret))\n"
     ]
    },
    {
     "name": "stdout",
     "output_type": "stream",
     "text": [
      "2.31306845703125\n",
      "\n",
      "Test set: Avg. loss: 2.3131, Accuracy: 1063/10000 (11%)\n",
      "\n",
      "Train Epoch: 1 [0/60000 (0%)]\tLoss: 2.336702\n",
      "Train Epoch: 1 [6400/60000 (11%)]\tLoss: 2.215078\n",
      "Train Epoch: 1 [12800/60000 (21%)]\tLoss: 1.917384\n",
      "Train Epoch: 1 [19200/60000 (32%)]\tLoss: 1.372403\n",
      "Train Epoch: 1 [25600/60000 (43%)]\tLoss: 1.361876\n",
      "Train Epoch: 1 [32000/60000 (53%)]\tLoss: 1.329155\n",
      "Train Epoch: 1 [38400/60000 (64%)]\tLoss: 1.209846\n",
      "Train Epoch: 1 [44800/60000 (75%)]\tLoss: 1.142738\n",
      "Train Epoch: 1 [51200/60000 (85%)]\tLoss: 1.190137\n",
      "Train Epoch: 1 [57600/60000 (96%)]\tLoss: 0.875701\n",
      "1.2291754150390626\n",
      "\n",
      "Test set: Avg. loss: 1.2292, Accuracy: 5942/10000 (59%)\n",
      "\n",
      "Train Epoch: 2 [0/60000 (0%)]\tLoss: 0.892504\n",
      "Train Epoch: 2 [6400/60000 (11%)]\tLoss: 1.352849\n",
      "Train Epoch: 2 [12800/60000 (21%)]\tLoss: 0.642742\n",
      "Train Epoch: 2 [19200/60000 (32%)]\tLoss: 0.836569\n",
      "Train Epoch: 2 [25600/60000 (43%)]\tLoss: 0.746490\n",
      "Train Epoch: 2 [32000/60000 (53%)]\tLoss: 0.890994\n",
      "Train Epoch: 2 [38400/60000 (64%)]\tLoss: 1.002413\n",
      "Train Epoch: 2 [44800/60000 (75%)]\tLoss: 0.547285\n",
      "Train Epoch: 2 [51200/60000 (85%)]\tLoss: 0.826019\n",
      "Train Epoch: 2 [57600/60000 (96%)]\tLoss: 0.690373\n",
      "1.0115927734375\n",
      "\n",
      "Test set: Avg. loss: 1.0116, Accuracy: 6769/10000 (68%)\n",
      "\n",
      "Train Epoch: 3 [0/60000 (0%)]\tLoss: 0.837170\n",
      "Train Epoch: 3 [6400/60000 (11%)]\tLoss: 0.859417\n",
      "Train Epoch: 3 [12800/60000 (21%)]\tLoss: 0.525585\n",
      "Train Epoch: 3 [19200/60000 (32%)]\tLoss: 0.680457\n",
      "Train Epoch: 3 [25600/60000 (43%)]\tLoss: 0.886209\n",
      "Train Epoch: 3 [32000/60000 (53%)]\tLoss: 0.929208\n",
      "Train Epoch: 3 [38400/60000 (64%)]\tLoss: 0.671555\n",
      "Train Epoch: 3 [44800/60000 (75%)]\tLoss: 0.654093\n",
      "Train Epoch: 3 [51200/60000 (85%)]\tLoss: 0.605734\n",
      "Train Epoch: 3 [57600/60000 (96%)]\tLoss: 0.914908\n",
      "0.920346142578125\n",
      "\n",
      "Test set: Avg. loss: 0.9203, Accuracy: 7010/10000 (70%)\n",
      "\n",
      "Train Epoch: 4 [0/60000 (0%)]\tLoss: 0.595667\n",
      "Train Epoch: 4 [6400/60000 (11%)]\tLoss: 0.904058\n",
      "Train Epoch: 4 [12800/60000 (21%)]\tLoss: 0.465236\n",
      "Train Epoch: 4 [19200/60000 (32%)]\tLoss: 0.947790\n",
      "Train Epoch: 4 [25600/60000 (43%)]\tLoss: 0.589107\n",
      "Train Epoch: 4 [32000/60000 (53%)]\tLoss: 0.519438\n",
      "Train Epoch: 4 [38400/60000 (64%)]\tLoss: 0.544374\n",
      "Train Epoch: 4 [44800/60000 (75%)]\tLoss: 0.615879\n",
      "Train Epoch: 4 [51200/60000 (85%)]\tLoss: 0.527897\n",
      "Train Epoch: 4 [57600/60000 (96%)]\tLoss: 0.679427\n",
      "0.8335571228027344\n",
      "\n",
      "Test set: Avg. loss: 0.8336, Accuracy: 7323/10000 (73%)\n",
      "\n",
      "Train Epoch: 5 [0/60000 (0%)]\tLoss: 0.721131\n",
      "Train Epoch: 5 [6400/60000 (11%)]\tLoss: 0.413683\n",
      "Train Epoch: 5 [12800/60000 (21%)]\tLoss: 0.254182\n",
      "Train Epoch: 5 [19200/60000 (32%)]\tLoss: 0.501817\n",
      "Train Epoch: 5 [25600/60000 (43%)]\tLoss: 0.955988\n",
      "Train Epoch: 5 [32000/60000 (53%)]\tLoss: 0.645861\n",
      "Train Epoch: 5 [38400/60000 (64%)]\tLoss: 0.459228\n",
      "Train Epoch: 5 [44800/60000 (75%)]\tLoss: 0.315675\n",
      "Train Epoch: 5 [51200/60000 (85%)]\tLoss: 0.712840\n",
      "Train Epoch: 5 [57600/60000 (96%)]\tLoss: 0.748073\n",
      "0.7704551391601563\n",
      "\n",
      "Test set: Avg. loss: 0.7705, Accuracy: 7578/10000 (76%)\n",
      "\n",
      "Train Epoch: 6 [0/60000 (0%)]\tLoss: 0.733348\n",
      "Train Epoch: 6 [6400/60000 (11%)]\tLoss: 0.364460\n",
      "Train Epoch: 6 [12800/60000 (21%)]\tLoss: 0.512640\n",
      "Train Epoch: 6 [19200/60000 (32%)]\tLoss: 0.430833\n",
      "Train Epoch: 6 [25600/60000 (43%)]\tLoss: 0.372134\n",
      "Train Epoch: 6 [32000/60000 (53%)]\tLoss: 0.344994\n",
      "Train Epoch: 6 [38400/60000 (64%)]\tLoss: 0.556807\n",
      "Train Epoch: 6 [44800/60000 (75%)]\tLoss: 0.541880\n",
      "Train Epoch: 6 [51200/60000 (85%)]\tLoss: 0.691524\n",
      "Train Epoch: 6 [57600/60000 (96%)]\tLoss: 0.603791\n",
      "0.7279554565429688\n",
      "\n",
      "Test set: Avg. loss: 0.7280, Accuracy: 7778/10000 (78%)\n",
      "\n",
      "Train Epoch: 7 [0/60000 (0%)]\tLoss: 0.469798\n",
      "Train Epoch: 7 [6400/60000 (11%)]\tLoss: 0.629617\n",
      "Train Epoch: 7 [12800/60000 (21%)]\tLoss: 0.617927\n",
      "Train Epoch: 7 [19200/60000 (32%)]\tLoss: 0.480389\n",
      "Train Epoch: 7 [25600/60000 (43%)]\tLoss: 0.459677\n",
      "Train Epoch: 7 [32000/60000 (53%)]\tLoss: 0.601960\n",
      "Train Epoch: 7 [38400/60000 (64%)]\tLoss: 0.274124\n",
      "Train Epoch: 7 [44800/60000 (75%)]\tLoss: 0.539080\n",
      "Train Epoch: 7 [51200/60000 (85%)]\tLoss: 0.445800\n",
      "Train Epoch: 7 [57600/60000 (96%)]\tLoss: 0.734946\n",
      "0.7084329711914062\n",
      "\n",
      "Test set: Avg. loss: 0.7084, Accuracy: 7803/10000 (78%)\n",
      "\n",
      "Train Epoch: 8 [0/60000 (0%)]\tLoss: 0.737607\n",
      "Train Epoch: 8 [6400/60000 (11%)]\tLoss: 0.289003\n",
      "Train Epoch: 8 [12800/60000 (21%)]\tLoss: 0.357097\n",
      "Train Epoch: 8 [19200/60000 (32%)]\tLoss: 0.482468\n",
      "Train Epoch: 8 [25600/60000 (43%)]\tLoss: 0.384749\n",
      "Train Epoch: 8 [32000/60000 (53%)]\tLoss: 0.697604\n",
      "Train Epoch: 8 [38400/60000 (64%)]\tLoss: 0.376844\n",
      "Train Epoch: 8 [44800/60000 (75%)]\tLoss: 0.671605\n",
      "Train Epoch: 8 [51200/60000 (85%)]\tLoss: 0.833367\n",
      "Train Epoch: 8 [57600/60000 (96%)]\tLoss: 0.486111\n",
      "0.6820142272949219\n",
      "\n",
      "Test set: Avg. loss: 0.6820, Accuracy: 7946/10000 (79%)\n",
      "\n",
      "Train Epoch: 9 [0/60000 (0%)]\tLoss: 0.574234\n",
      "Train Epoch: 9 [6400/60000 (11%)]\tLoss: 0.472891\n",
      "Train Epoch: 9 [12800/60000 (21%)]\tLoss: 0.285281\n",
      "Train Epoch: 9 [19200/60000 (32%)]\tLoss: 0.726818\n",
      "Train Epoch: 9 [25600/60000 (43%)]\tLoss: 0.431676\n",
      "Train Epoch: 9 [32000/60000 (53%)]\tLoss: 0.388291\n",
      "Train Epoch: 9 [38400/60000 (64%)]\tLoss: 0.407926\n",
      "Train Epoch: 9 [44800/60000 (75%)]\tLoss: 0.426101\n",
      "Train Epoch: 9 [51200/60000 (85%)]\tLoss: 0.480253\n",
      "Train Epoch: 9 [57600/60000 (96%)]\tLoss: 0.429978\n",
      "0.6939815063476562\n",
      "\n",
      "Test set: Avg. loss: 0.6940, Accuracy: 7872/10000 (79%)\n",
      "\n",
      "Train Epoch: 10 [0/60000 (0%)]\tLoss: 0.514822\n",
      "Train Epoch: 10 [6400/60000 (11%)]\tLoss: 0.491196\n",
      "Train Epoch: 10 [12800/60000 (21%)]\tLoss: 0.376225\n",
      "Train Epoch: 10 [19200/60000 (32%)]\tLoss: 0.348134\n",
      "Train Epoch: 10 [25600/60000 (43%)]\tLoss: 0.502571\n",
      "Train Epoch: 10 [32000/60000 (53%)]\tLoss: 0.394271\n",
      "Train Epoch: 10 [38400/60000 (64%)]\tLoss: 0.523006\n",
      "Train Epoch: 10 [44800/60000 (75%)]\tLoss: 0.322302\n",
      "Train Epoch: 10 [51200/60000 (85%)]\tLoss: 0.449933\n",
      "Train Epoch: 10 [57600/60000 (96%)]\tLoss: 0.429509\n",
      "0.6656783355712891\n",
      "\n",
      "Test set: Avg. loss: 0.6657, Accuracy: 7994/10000 (80%)\n",
      "\n",
      "Train Epoch: 11 [0/60000 (0%)]\tLoss: 0.553698\n",
      "Train Epoch: 11 [6400/60000 (11%)]\tLoss: 0.800458\n",
      "Train Epoch: 11 [12800/60000 (21%)]\tLoss: 0.584541\n",
      "Train Epoch: 11 [19200/60000 (32%)]\tLoss: 0.409687\n",
      "Train Epoch: 11 [25600/60000 (43%)]\tLoss: 0.724860\n",
      "Train Epoch: 11 [32000/60000 (53%)]\tLoss: 0.412076\n",
      "Train Epoch: 11 [38400/60000 (64%)]\tLoss: 0.543609\n",
      "Train Epoch: 11 [44800/60000 (75%)]\tLoss: 0.265250\n",
      "Train Epoch: 11 [51200/60000 (85%)]\tLoss: 0.424513\n",
      "Train Epoch: 11 [57600/60000 (96%)]\tLoss: 0.209642\n",
      "0.6527858734130859\n",
      "\n",
      "Test set: Avg. loss: 0.6528, Accuracy: 8036/10000 (80%)\n",
      "\n",
      "Train Epoch: 12 [0/60000 (0%)]\tLoss: 0.511869\n",
      "Train Epoch: 12 [6400/60000 (11%)]\tLoss: 0.544991\n",
      "Train Epoch: 12 [12800/60000 (21%)]\tLoss: 0.555941\n",
      "Train Epoch: 12 [19200/60000 (32%)]\tLoss: 0.500571\n",
      "Train Epoch: 12 [25600/60000 (43%)]\tLoss: 0.400850\n",
      "Train Epoch: 12 [32000/60000 (53%)]\tLoss: 0.305878\n",
      "Train Epoch: 12 [38400/60000 (64%)]\tLoss: 0.428316\n",
      "Train Epoch: 12 [44800/60000 (75%)]\tLoss: 0.325100\n",
      "Train Epoch: 12 [51200/60000 (85%)]\tLoss: 0.401424\n",
      "Train Epoch: 12 [57600/60000 (96%)]\tLoss: 0.662483\n",
      "0.6240087432861328\n",
      "\n",
      "Test set: Avg. loss: 0.6240, Accuracy: 8155/10000 (82%)\n",
      "\n",
      "Train Epoch: 13 [0/60000 (0%)]\tLoss: 0.391357\n",
      "Train Epoch: 13 [6400/60000 (11%)]\tLoss: 0.650098\n",
      "Train Epoch: 13 [12800/60000 (21%)]\tLoss: 0.307605\n",
      "Train Epoch: 13 [19200/60000 (32%)]\tLoss: 0.553596\n",
      "Train Epoch: 13 [25600/60000 (43%)]\tLoss: 0.412121\n",
      "Train Epoch: 13 [32000/60000 (53%)]\tLoss: 0.488250\n",
      "Train Epoch: 13 [38400/60000 (64%)]\tLoss: 0.406897\n",
      "Train Epoch: 13 [44800/60000 (75%)]\tLoss: 0.374278\n",
      "Train Epoch: 13 [51200/60000 (85%)]\tLoss: 0.598669\n",
      "Train Epoch: 13 [57600/60000 (96%)]\tLoss: 0.443829\n",
      "0.6232525207519531\n",
      "\n",
      "Test set: Avg. loss: 0.6233, Accuracy: 8175/10000 (82%)\n",
      "\n",
      "Train Epoch: 14 [0/60000 (0%)]\tLoss: 0.413740\n",
      "Train Epoch: 14 [6400/60000 (11%)]\tLoss: 0.327985\n",
      "Train Epoch: 14 [12800/60000 (21%)]\tLoss: 0.230859\n",
      "Train Epoch: 14 [19200/60000 (32%)]\tLoss: 0.548103\n",
      "Train Epoch: 14 [25600/60000 (43%)]\tLoss: 0.199124\n",
      "Train Epoch: 14 [32000/60000 (53%)]\tLoss: 0.406854\n",
      "Train Epoch: 14 [38400/60000 (64%)]\tLoss: 0.310737\n",
      "Train Epoch: 14 [44800/60000 (75%)]\tLoss: 0.467772\n",
      "Train Epoch: 14 [51200/60000 (85%)]\tLoss: 0.430311\n",
      "Train Epoch: 14 [57600/60000 (96%)]\tLoss: 0.428576\n",
      "0.6038542419433593\n",
      "\n",
      "Test set: Avg. loss: 0.6039, Accuracy: 8167/10000 (82%)\n",
      "\n",
      "Train Epoch: 15 [0/60000 (0%)]\tLoss: 0.480853\n",
      "Train Epoch: 15 [6400/60000 (11%)]\tLoss: 0.311023\n",
      "Train Epoch: 15 [12800/60000 (21%)]\tLoss: 0.485160\n",
      "Train Epoch: 15 [19200/60000 (32%)]\tLoss: 0.335172\n",
      "Train Epoch: 15 [25600/60000 (43%)]\tLoss: 0.249142\n",
      "Train Epoch: 15 [32000/60000 (53%)]\tLoss: 0.280017\n",
      "Train Epoch: 15 [38400/60000 (64%)]\tLoss: 0.450819\n",
      "Train Epoch: 15 [44800/60000 (75%)]\tLoss: 0.413712\n",
      "Train Epoch: 15 [51200/60000 (85%)]\tLoss: 0.424921\n",
      "Train Epoch: 15 [57600/60000 (96%)]\tLoss: 0.415003\n",
      "0.6077464202880859\n",
      "\n",
      "Test set: Avg. loss: 0.6077, Accuracy: 8218/10000 (82%)\n",
      "\n",
      "Train Epoch: 16 [0/60000 (0%)]\tLoss: 0.454973\n",
      "Train Epoch: 16 [6400/60000 (11%)]\tLoss: 0.355370\n",
      "Train Epoch: 16 [12800/60000 (21%)]\tLoss: 0.521549\n",
      "Train Epoch: 16 [19200/60000 (32%)]\tLoss: 0.335731\n",
      "Train Epoch: 16 [25600/60000 (43%)]\tLoss: 0.287619\n",
      "Train Epoch: 16 [32000/60000 (53%)]\tLoss: 0.347952\n",
      "Train Epoch: 16 [38400/60000 (64%)]\tLoss: 0.614429\n",
      "Train Epoch: 16 [44800/60000 (75%)]\tLoss: 0.423823\n",
      "Train Epoch: 16 [51200/60000 (85%)]\tLoss: 0.495349\n",
      "Train Epoch: 16 [57600/60000 (96%)]\tLoss: 0.128973\n",
      "0.58003876953125\n",
      "\n",
      "Test set: Avg. loss: 0.5800, Accuracy: 8287/10000 (83%)\n",
      "\n",
      "Train Epoch: 17 [0/60000 (0%)]\tLoss: 0.409179\n",
      "Train Epoch: 17 [6400/60000 (11%)]\tLoss: 0.192427\n",
      "Train Epoch: 17 [12800/60000 (21%)]\tLoss: 0.374016\n",
      "Train Epoch: 17 [19200/60000 (32%)]\tLoss: 0.501137\n",
      "Train Epoch: 17 [25600/60000 (43%)]\tLoss: 0.428622\n",
      "Train Epoch: 17 [32000/60000 (53%)]\tLoss: 0.314306\n",
      "Train Epoch: 17 [38400/60000 (64%)]\tLoss: 0.681122\n",
      "Train Epoch: 17 [44800/60000 (75%)]\tLoss: 0.274851\n",
      "Train Epoch: 17 [51200/60000 (85%)]\tLoss: 0.437007\n",
      "Train Epoch: 17 [57600/60000 (96%)]\tLoss: 0.494122\n",
      "0.5745517120361329\n",
      "\n",
      "Test set: Avg. loss: 0.5746, Accuracy: 8271/10000 (83%)\n",
      "\n",
      "Train Epoch: 18 [0/60000 (0%)]\tLoss: 0.354212\n",
      "Train Epoch: 18 [6400/60000 (11%)]\tLoss: 0.522049\n",
      "Train Epoch: 18 [12800/60000 (21%)]\tLoss: 0.431724\n",
      "Train Epoch: 18 [19200/60000 (32%)]\tLoss: 0.500354\n",
      "Train Epoch: 18 [25600/60000 (43%)]\tLoss: 0.232480\n",
      "Train Epoch: 18 [32000/60000 (53%)]\tLoss: 0.313117\n",
      "Train Epoch: 18 [38400/60000 (64%)]\tLoss: 0.559503\n",
      "Train Epoch: 18 [44800/60000 (75%)]\tLoss: 0.345654\n",
      "Train Epoch: 18 [51200/60000 (85%)]\tLoss: 0.228094\n",
      "Train Epoch: 18 [57600/60000 (96%)]\tLoss: 0.527483\n",
      "0.5809295959472657\n",
      "\n",
      "Test set: Avg. loss: 0.5809, Accuracy: 8247/10000 (82%)\n",
      "\n",
      "Train Epoch: 19 [0/60000 (0%)]\tLoss: 0.510382\n",
      "Train Epoch: 19 [6400/60000 (11%)]\tLoss: 0.318668\n",
      "Train Epoch: 19 [12800/60000 (21%)]\tLoss: 0.292915\n",
      "Train Epoch: 19 [19200/60000 (32%)]\tLoss: 0.446466\n",
      "Train Epoch: 19 [25600/60000 (43%)]\tLoss: 0.205682\n",
      "Train Epoch: 19 [32000/60000 (53%)]\tLoss: 0.333308\n",
      "Train Epoch: 19 [38400/60000 (64%)]\tLoss: 0.292416\n",
      "Train Epoch: 19 [44800/60000 (75%)]\tLoss: 0.330713\n",
      "Train Epoch: 19 [51200/60000 (85%)]\tLoss: 0.535866\n",
      "Train Epoch: 19 [57600/60000 (96%)]\tLoss: 0.363363\n",
      "0.5621459777832031\n",
      "\n",
      "Test set: Avg. loss: 0.5621, Accuracy: 8297/10000 (83%)\n",
      "\n",
      "Train Epoch: 20 [0/60000 (0%)]\tLoss: 0.264771\n",
      "Train Epoch: 20 [6400/60000 (11%)]\tLoss: 0.451857\n",
      "Train Epoch: 20 [12800/60000 (21%)]\tLoss: 0.349103\n",
      "Train Epoch: 20 [19200/60000 (32%)]\tLoss: 0.347915\n",
      "Train Epoch: 20 [25600/60000 (43%)]\tLoss: 0.282734\n",
      "Train Epoch: 20 [32000/60000 (53%)]\tLoss: 0.480577\n",
      "Train Epoch: 20 [38400/60000 (64%)]\tLoss: 0.311793\n",
      "Train Epoch: 20 [44800/60000 (75%)]\tLoss: 0.492022\n",
      "Train Epoch: 20 [51200/60000 (85%)]\tLoss: 0.361426\n",
      "Train Epoch: 20 [57600/60000 (96%)]\tLoss: 0.328412\n",
      "0.560126187133789\n",
      "\n",
      "Test set: Avg. loss: 0.5601, Accuracy: 8358/10000 (84%)\n",
      "\n",
      "378.6888425350189\n"
     ]
    }
   ],
   "source": [
    "test()\n",
    "\n",
    "for epoch in range(1, n_epochs + 1):\n",
    "    train(epoch)\n",
    "    test()\n",
    "    \n",
    "print( time.time()-t0 )"
   ]
  },
  {
   "cell_type": "code",
   "execution_count": 16,
   "metadata": {},
   "outputs": [
    {
     "data": {
      "text/plain": [
       "[2.31306845703125,\n",
       " 1.2291754150390626,\n",
       " 1.0115927734375,\n",
       " 0.920346142578125,\n",
       " 0.8335571228027344,\n",
       " 0.7704551391601563,\n",
       " 0.7279554565429688,\n",
       " 0.7084329711914062,\n",
       " 0.6820142272949219,\n",
       " 0.6939815063476562,\n",
       " 0.6656783355712891,\n",
       " 0.6527858734130859,\n",
       " 0.6240087432861328,\n",
       " 0.6232525207519531,\n",
       " 0.6038542419433593,\n",
       " 0.6077464202880859,\n",
       " 0.58003876953125,\n",
       " 0.5745517120361329,\n",
       " 0.5809295959472657,\n",
       " 0.5621459777832031,\n",
       " 0.560126187133789]"
      ]
     },
     "execution_count": 16,
     "metadata": {},
     "output_type": "execute_result"
    }
   ],
   "source": [
    "#test_counter\n",
    "test_losses"
   ]
  },
  {
   "cell_type": "code",
   "execution_count": 17,
   "metadata": {},
   "outputs": [
    {
     "data": {
      "text/plain": [
       "[0,\n",
       " 60000,\n",
       " 120000,\n",
       " 180000,\n",
       " 240000,\n",
       " 300000,\n",
       " 360000,\n",
       " 420000,\n",
       " 480000,\n",
       " 540000,\n",
       " 600000,\n",
       " 660000,\n",
       " 720000,\n",
       " 780000,\n",
       " 840000,\n",
       " 900000,\n",
       " 960000,\n",
       " 1020000,\n",
       " 1080000,\n",
       " 1140000,\n",
       " 1200000]"
      ]
     },
     "execution_count": 17,
     "metadata": {},
     "output_type": "execute_result"
    }
   ],
   "source": [
    "test_counter"
   ]
  },
  {
   "cell_type": "code",
   "execution_count": 18,
   "metadata": {},
   "outputs": [
    {
     "data": {
      "text/plain": [
       "Text(0, 0.5, 'negative log likelihood loss')"
      ]
     },
     "execution_count": 18,
     "metadata": {},
     "output_type": "execute_result"
    },
    {
     "data": {
      "image/png": "[encoded data removed]",
      "text/plain": [
       "<Figure size 640x480 with 1 Axes>"
      ]
     },
     "metadata": {},
     "output_type": "display_data"
    }
   ],
   "source": [
    "fig = plt.figure()\n",
    "plt.plot(train_counter, train_losses, color='blue')\n",
    "plt.scatter(test_counter, test_losses, color='red')\n",
    "plt.legend(['Train Loss', 'Test Loss'], loc='upper right')\n",
    "plt.xlabel('number of training examples seen')\n",
    "plt.ylabel('negative log likelihood loss')\n",
    "#fig"
   ]
  },
  {
   "cell_type": "code",
   "execution_count": null,
   "metadata": {},
   "outputs": [],
   "source": []
  }
 ],
 "metadata": {
  "kernelspec": {
   "display_name": "cv:Python",
   "language": "python",
   "name": "conda-env-cv-py"
  },
  "language_info": {
   "codemirror_mode": {
    "name": "ipython",
    "version": 3
   },
   "file_extension": ".py",
   "mimetype": "text/x-python",
   "name": "python",
   "nbconvert_exporter": "python",
   "pygments_lexer": "ipython3",
   "version": "3.9.13"
  }
 },
 "nbformat": 4,
 "nbformat_minor": 4
}
